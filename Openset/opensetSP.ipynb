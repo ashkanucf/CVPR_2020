{
  "nbformat": 4,
  "nbformat_minor": 0,
  "metadata": {
    "colab": {
      "name": "joneidishaker",
      "provenance": [],
      "collapsed_sections": []
    },
    "kernelspec": {
      "name": "python3",
      "display_name": "Python 3"
    },
    "accelerator": "GPU"
  },
  "cells": [
    {
      "cell_type": "code",
      "metadata": {
        "id": "Jfdzbsrkvohp",
        "colab_type": "code",
        "outputId": "4b995a2f-c57d-47a4-aa10-f8f971889d8f",
        "colab": {
          "base_uri": "https://localhost:8080/",
          "height": 80
        }
      },
      "source": [
        " import pandas as pd\n",
        "import numpy as np\n",
        "import tensorflow as tf\n",
        "import keras\n",
        "from keras.datasets import cifar10\n",
        "from keras.datasets import mnist"
      ],
      "execution_count": 2,
      "outputs": [
        {
          "output_type": "display_data",
          "data": {
            "text/html": [
              "<p style=\"color: red;\">\n",
              "The default version of TensorFlow in Colab will soon switch to TensorFlow 2.x.<br>\n",
              "We recommend you <a href=\"https://www.tensorflow.org/guide/migrate\" target=\"_blank\">upgrade</a> now \n",
              "or ensure your notebook will continue to use TensorFlow 1.x via the <code>%tensorflow_version 1.x</code> magic:\n",
              "<a href=\"https://colab.research.google.com/notebooks/tensorflow_version.ipynb\" target=\"_blank\">more info</a>.</p>\n"
            ],
            "text/plain": [
              "<IPython.core.display.HTML object>"
            ]
          },
          "metadata": {
            "tags": []
          }
        },
        {
          "output_type": "stream",
          "text": [
            "Using TensorFlow backend.\n"
          ],
          "name": "stderr"
        }
      ]
    },
    {
      "cell_type": "code",
      "metadata": {
        "id": "gGV-vDZ-tR20",
        "colab_type": "code",
        "outputId": "135ea1fc-e2cb-4520-cd66-e7c086ba13d2",
        "colab": {
          "base_uri": "https://localhost:8080/",
          "height": 34
        }
      },
      "source": [
        "!pip install -U -q PyDrive\n",
        "from pydrive.auth import GoogleAuth\n",
        "from pydrive.drive import GoogleDrive\n",
        "from google.colab import auth\n",
        "from oauth2client.client import GoogleCredentials\n",
        "# Authenticate and create the PyDrive client.\n",
        "auth.authenticate_user()\n",
        "gauth = GoogleAuth()\n",
        "gauth.credentials = GoogleCredentials.get_application_default()\n",
        "drive = GoogleDrive(gauth)\n",
        "link = 'https://drive.google.com/open?id=12VedSC0rIitaHUJQPwAgSo9y7FTbd6iE'\n",
        "fluff, id = link.split('=')\n",
        "print (id) # Verify that you have everything after '='\n",
        "downloaded = drive.CreateFile({'id':id}) \n",
        "downloaded.GetContentFile('Filename.csv')  \n",
        "df3 = pd.read_csv('Filename.csv')"
      ],
      "execution_count": 3,
      "outputs": [
        {
          "output_type": "stream",
          "text": [
            "12VedSC0rIitaHUJQPwAgSo9y7FTbd6iE\n"
          ],
          "name": "stdout"
        }
      ]
    },
    {
      "cell_type": "code",
      "metadata": {
        "id": "5I2mJdQPMScF",
        "colab_type": "code",
        "colab": {}
      },
      "source": [
        "# link = 'https://drive.google.com/open?id=1fQVb0GWT8Jv5bzElMTOdeQWDtA3wQO8o'\n",
        "# fluff, id = link.split('=')\n",
        "# print (id) # Verify that you have everything after '='\n",
        "# downloaded = drive.CreateFile({'id':id}) \n",
        "# downloaded.GetContentFile('Filename.csv')  \n",
        "# SK5 = pd.read_csv('Filename.csv')\n",
        "# link = 'https://drive.google.com/open?id=1NSOKdGV0jUj5h8V8kcOcmCzVDnQjvEr-'\n",
        "# fluff, id = link.split('=')\n",
        "# print (id) # Verify that you have everything after '='\n",
        "# downloaded = drive.CreateFile({'id':id}) \n",
        "# downloaded.GetContentFile('Filename.csv')  \n",
        "# SK10 = pd.read_csv('Filename.csv')\n",
        "# link = 'https://drive.google.com/open?id=1vVU_pb2FcAEks7v5MASJCXq3ujWfwIK2'\n",
        "# fluff, id = link.split('=')\n",
        "# print (id) # Verify that you have everything after '='\n",
        "# downloaded = drive.CreateFile({'id':id}) \n",
        "# downloaded.GetContentFile('Filename.csv')  \n",
        "# SK50 = pd.read_csv('Filename.csv')\n"
      ],
      "execution_count": 0,
      "outputs": []
    },
    {
      "cell_type": "code",
      "metadata": {
        "id": "E5EvfoykMCww",
        "colab_type": "code",
        "colab": {}
      },
      "source": [
        "# SK5=SK5.to_numpy()\n",
        "# SK10=SK10.to_numpy()\n",
        "# SK50=SK50.to_numpy()"
      ],
      "execution_count": 0,
      "outputs": []
    },
    {
      "cell_type": "code",
      "metadata": {
        "id": "HhB3dRRH2avI",
        "colab_type": "code",
        "colab": {}
      },
      "source": [
        "import gzip\n",
        "import os\n",
        "import sys\n",
        "import struct\n",
        "import numpy as np\n",
        "\n",
        "def read_image(fi):\n",
        "    magic, n, rows, columns = struct.unpack(\">IIII\", fi.read(16))\n",
        "    assert magic == 0x00000803\n",
        "    assert rows == 28\n",
        "    assert columns == 28\n",
        "    rawbuffer = fi.read()\n",
        "    assert len(rawbuffer) == n * rows * columns\n",
        "    rawdata = np.frombuffer(rawbuffer, dtype='>u1', count=n*rows*columns)\n",
        "    return rawdata.reshape(n, rows, columns).astype(np.float32) / 255.0\n",
        "\n",
        "def read_label(fi):\n",
        "    magic, n = struct.unpack(\">II\", fi.read(8))\n",
        "    assert magic == 0x00000801\n",
        "    rawbuffer = fi.read()\n",
        "    assert len(rawbuffer) == n\n",
        "    return np.frombuffer(rawbuffer, dtype='>u1', count=n)\n",
        "\n",
        "if __name__ == '__main__':\n",
        "    os.system('wget -N http://yann.lecun.com/exdb/mnist/train-images-idx3-ubyte.gz')\n",
        "    os.system('wget -N http://yann.lecun.com/exdb/mnist/train-labels-idx1-ubyte.gz')\n",
        "    os.system('wget -N http://yann.lecun.com/exdb/mnist/t10k-images-idx3-ubyte.gz')\n",
        "    os.system('wget -N http://yann.lecun.com/exdb/mnist/t10k-labels-idx1-ubyte.gz')\n",
        "    \n",
        "    np.savez_compressed(\n",
        "        'mnist',\n",
        "        train_x=read_image(gzip.open('train-images-idx3-ubyte.gz', 'rb')),\n",
        "        train_y=read_label(gzip.open('train-labels-idx1-ubyte.gz', 'rb')),\n",
        "        test_x=read_image(gzip.open('t10k-images-idx3-ubyte.gz', 'rb')),\n",
        "        test_y=read_label(gzip.open('t10k-labels-idx1-ubyte.gz', 'rb'))\n",
        "    )"
      ],
      "execution_count": 0,
      "outputs": []
    },
    {
      "cell_type": "code",
      "metadata": {
        "id": "TNSyABa11Dj5",
        "colab_type": "code",
        "outputId": "e7a96216-7659-4923-894f-081d7b6aa640",
        "colab": {
          "base_uri": "https://localhost:8080/",
          "height": 85
        }
      },
      "source": [
        "import numpy as np\n",
        "data = np.load('mnist.npz')\n",
        "\n",
        "print(data['train_x'].shape, data['train_x'].dtype)\n",
        "print(data['train_y'].shape, data['train_y'].dtype)\n",
        "print(data['test_x'].shape, data['test_x'].dtype)\n",
        "print(data['test_y'].shape, data['test_y'].dtype)"
      ],
      "execution_count": 5,
      "outputs": [
        {
          "output_type": "stream",
          "text": [
            "(60000, 28, 28) float32\n",
            "(60000,) uint8\n",
            "(10000, 28, 28) float32\n",
            "(10000,) uint8\n"
          ],
          "name": "stdout"
        }
      ]
    },
    {
      "cell_type": "code",
      "metadata": {
        "id": "9JxD_Osh3Gvu",
        "colab_type": "code",
        "colab": {}
      },
      "source": [
        "def SP(data,K):\n",
        "  #data=np.reshape(data,[784,158])\n",
        "  A=data\n",
        "  #A=np.transpose(data)\n",
        "  At=data\n",
        "  inds=np.zeros(K,);\n",
        "  inds=inds.astype(int)\n",
        "  iter=0\n",
        "  for k in range(0,K):\n",
        "    iter=iter+1\n",
        "    [U,S,V]=np.linalg.svd(At,full_matrices=False)\n",
        "    u=U[:,0]\n",
        "    v=V[:,0]\n",
        "    N=np.linalg.norm(At,axis=0)\n",
        "    B=At/N\n",
        "    B=np.transpose(B)\n",
        "    Cr=np.abs(np.matmul(B,u))\n",
        "    ind=np.argsort(Cr)[::-1]\n",
        "    p=ind[0]\n",
        "    inds[k]=p\n",
        "    A3=A[:,inds[0:k+1]]\n",
        "    At=A-np.matmul(np.matmul(A3,np.linalg.pinv(np.matmul(np.transpose(A3),A3))),np.matmul(np.transpose(A3),A))\n",
        "  # ind2=np.zeros(K-1,);\n",
        "  # for iter in range(1,5):\n",
        "  #   for k in range(0,K):\n",
        "  #     ind2=np.delete(inds,k)\n",
        "  #     A3=A[:,ind2]\n",
        "  #     At=A-np.matmul(np.matmul(A3,np.linalg.pinv(np.matmul(np.transpose(A3),A3))),np.matmul(np.transpose(A3),A))\n",
        "  #     [U,S,V]=np.linalg.svd(At,full_matrices=False)\n",
        "  #     u=U[:,1]\n",
        "  #     v=V[:,1]\n",
        "  #     N=np.linalg.norm(At,axis=0)\n",
        "  #     B=At/N\n",
        "  #     B=np.transpose(B)\n",
        "  #     Cr=np.abs(np.matmul(B,u))\n",
        "  #     ind=np.argsort(Cr)[::-1]\n",
        "  #     p=ind[0]\n",
        "  #     inds[k]=p\n",
        "  return inds"
      ],
      "execution_count": 0,
      "outputs": []
    },
    {
      "cell_type": "code",
      "metadata": {
        "id": "79XO6qiC5GFI",
        "colab_type": "code",
        "colab": {}
      },
      "source": [
        "data = np.load('mnist.npz')\n",
        "x=data['train_x']\n",
        "y=data['train_y']\n",
        "xx=data['test_x']\n",
        "yy=data['test_y']\n",
        "#ind=np.array(np.where(y<6))[0]\n",
        "#dtr=x[ind,:,:]\n",
        "dtr=x\n",
        "#ytr=y[ind]\n",
        "ytr=y\n",
        "#ind=np.array(np.where(yy<6))[0]\n",
        "#dte=xx[ind,:,:]\n",
        "dte=xx\n",
        "#yte=yy[ind]\n",
        "yte=yy\n",
        "ind0=np.where(y==0)\n",
        "ind0=np.array(ind0)\n",
        "ind1=np.where(y==1)\n",
        "ind1=np.array(ind1)\n",
        "ind2=np.where(y==2)\n",
        "ind2=np.array(ind2)\n",
        "ind3=np.where(y==3)\n",
        "ind3=np.array(ind3)\n",
        "ind4=np.where(y==4)\n",
        "ind4=np.array(ind4)\n",
        "ind5=np.where(y==5)\n",
        "ind5=np.array(ind5)\n",
        "ind6=np.where(y==6)\n",
        "ind6=np.array(ind6)\n",
        "ind7=np.where(y==7)\n",
        "ind7=np.array(ind7)\n",
        "ind8=np.where(y==8)\n",
        "ind8=np.array(ind8)\n",
        "ind9=np.where(y==9)\n",
        "ind9=np.array(ind9)\n",
        "d0=np.transpose(np.reshape(dtr[ind0,:,:][0],[dtr[ind0,:,:].shape[1],784]))\n",
        "d1=np.transpose(np.reshape(dtr[ind1,:,:][0],[dtr[ind1,:,:].shape[1],784]))\n",
        "d2=np.transpose(np.reshape(dtr[ind2,:,:][0],[dtr[ind2,:,:].shape[1],784]))\n",
        "d3=np.transpose(np.reshape(dtr[ind3,:,:][0],[dtr[ind3,:,:].shape[1],784]))\n",
        "d4=np.transpose(np.reshape(dtr[ind4,:,:][0],[dtr[ind4,:,:].shape[1],784]))\n",
        "d5=np.transpose(np.reshape(dtr[ind5,:,:][0],[dtr[ind5,:,:].shape[1],784]))\n",
        "d6=np.transpose(np.reshape(dtr[ind6,:,:][0],[dtr[ind6,:,:].shape[1],784]))\n",
        "d7=np.transpose(np.reshape(dtr[ind7,:,:][0],[dtr[ind7,:,:].shape[1],784]))\n",
        "d8=np.transpose(np.reshape(dtr[ind8,:,:][0],[dtr[ind8,:,:].shape[1],784]))\n",
        "d9=np.transpose(np.reshape(dtr[ind9,:,:][0],[dtr[ind9,:,:].shape[1],784]))\n"
      ],
      "execution_count": 0,
      "outputs": []
    },
    {
      "cell_type": "code",
      "metadata": {
        "id": "9VqgbAH0nDhM",
        "colab_type": "code",
        "colab": {
          "base_uri": "https://localhost:8080/",
          "height": 375
        },
        "outputId": "bb7e212b-ac56-40d0-b597-e37bd627f81e"
      },
      "source": [
        "from google.colab import files\n",
        "import pandas as pd\n",
        "\n",
        "D0=pd.DataFrame(d0)\n",
        "D0.to_csv('D0.csv')\n",
        "files.download('D0.csv')  \n",
        "D1=pd.DataFrame(d1)\n",
        "D1.to_csv('D1.csv') \n",
        "files.download('D1.csv') \n",
        "D2=pd.DataFrame(d2)\n",
        "D2.to_csv('D2.csv')\n",
        "files.download('D2.csv')  \n",
        "D3=pd.DataFrame(d3)\n",
        "D3.to_csv('D3.csv')\n",
        "files.download('D3.csv')  \n",
        "D4=pd.DataFrame(d4)\n",
        "D4.to_csv('D4.csv') \n",
        "files.download('D4.csv') \n",
        "D5=pd.DataFrame(d5)\n",
        "D5.to_csv('D5.csv')\n",
        "files.download('D5.csv')\n",
        "D6=pd.DataFrame(d6)\n",
        "D6.to_csv('D6.csv')\n",
        "files.download('D6.csv')  \n",
        "D7=pd.DataFrame(d7)\n",
        "D7.to_csv('D7.csv') \n",
        "files.download('D7.csv') \n",
        "D8=pd.DataFrame(d8)\n",
        "D8.to_csv('D8.csv')\n",
        "files.download('D8.csv')  \n",
        "D9=pd.DataFrame(d9)\n",
        "D9.to_csv('D9.csv')\n",
        "files.download('D9.csv')  \n"
      ],
      "execution_count": 7,
      "outputs": [
        {
          "output_type": "error",
          "ename": "KeyboardInterrupt",
          "evalue": "ignored",
          "traceback": [
            "\u001b[0;31m---------------------------------------------------------------------------\u001b[0m",
            "\u001b[0;31mKeyboardInterrupt\u001b[0m                         Traceback (most recent call last)",
            "\u001b[0;32m<ipython-input-7-83534db6326e>\u001b[0m in \u001b[0;36m<module>\u001b[0;34m()\u001b[0m\n\u001b[1;32m      3\u001b[0m \u001b[0;34m\u001b[0m\u001b[0m\n\u001b[1;32m      4\u001b[0m \u001b[0mD0\u001b[0m\u001b[0;34m=\u001b[0m\u001b[0mpd\u001b[0m\u001b[0;34m.\u001b[0m\u001b[0mDataFrame\u001b[0m\u001b[0;34m(\u001b[0m\u001b[0md0\u001b[0m\u001b[0;34m)\u001b[0m\u001b[0;34m\u001b[0m\u001b[0;34m\u001b[0m\u001b[0m\n\u001b[0;32m----> 5\u001b[0;31m \u001b[0mD0\u001b[0m\u001b[0;34m.\u001b[0m\u001b[0mto_csv\u001b[0m\u001b[0;34m(\u001b[0m\u001b[0;34m'D0.csv'\u001b[0m\u001b[0;34m)\u001b[0m\u001b[0;34m\u001b[0m\u001b[0;34m\u001b[0m\u001b[0m\n\u001b[0m\u001b[1;32m      6\u001b[0m \u001b[0mfiles\u001b[0m\u001b[0;34m.\u001b[0m\u001b[0mdownload\u001b[0m\u001b[0;34m(\u001b[0m\u001b[0;34m'D0.csv'\u001b[0m\u001b[0;34m)\u001b[0m\u001b[0;34m\u001b[0m\u001b[0;34m\u001b[0m\u001b[0m\n\u001b[1;32m      7\u001b[0m \u001b[0mD1\u001b[0m\u001b[0;34m=\u001b[0m\u001b[0mpd\u001b[0m\u001b[0;34m.\u001b[0m\u001b[0mDataFrame\u001b[0m\u001b[0;34m(\u001b[0m\u001b[0md1\u001b[0m\u001b[0;34m)\u001b[0m\u001b[0;34m\u001b[0m\u001b[0;34m\u001b[0m\u001b[0m\n",
            "\u001b[0;32m/usr/local/lib/python3.6/dist-packages/pandas/core/generic.py\u001b[0m in \u001b[0;36mto_csv\u001b[0;34m(self, path_or_buf, sep, na_rep, float_format, columns, header, index, index_label, mode, encoding, compression, quoting, quotechar, line_terminator, chunksize, date_format, doublequote, escapechar, decimal)\u001b[0m\n\u001b[1;32m   3226\u001b[0m             \u001b[0mdecimal\u001b[0m\u001b[0;34m=\u001b[0m\u001b[0mdecimal\u001b[0m\u001b[0;34m,\u001b[0m\u001b[0;34m\u001b[0m\u001b[0;34m\u001b[0m\u001b[0m\n\u001b[1;32m   3227\u001b[0m         )\n\u001b[0;32m-> 3228\u001b[0;31m         \u001b[0mformatter\u001b[0m\u001b[0;34m.\u001b[0m\u001b[0msave\u001b[0m\u001b[0;34m(\u001b[0m\u001b[0;34m)\u001b[0m\u001b[0;34m\u001b[0m\u001b[0;34m\u001b[0m\u001b[0m\n\u001b[0m\u001b[1;32m   3229\u001b[0m \u001b[0;34m\u001b[0m\u001b[0m\n\u001b[1;32m   3230\u001b[0m         \u001b[0;32mif\u001b[0m \u001b[0mpath_or_buf\u001b[0m \u001b[0;32mis\u001b[0m \u001b[0;32mNone\u001b[0m\u001b[0;34m:\u001b[0m\u001b[0;34m\u001b[0m\u001b[0;34m\u001b[0m\u001b[0m\n",
            "\u001b[0;32m/usr/local/lib/python3.6/dist-packages/pandas/io/formats/csvs.py\u001b[0m in \u001b[0;36msave\u001b[0;34m(self)\u001b[0m\n\u001b[1;32m    200\u001b[0m                 \u001b[0mself\u001b[0m\u001b[0;34m.\u001b[0m\u001b[0mwriter\u001b[0m \u001b[0;34m=\u001b[0m \u001b[0mUnicodeWriter\u001b[0m\u001b[0;34m(\u001b[0m\u001b[0mf\u001b[0m\u001b[0;34m,\u001b[0m \u001b[0;34m**\u001b[0m\u001b[0mwriter_kwargs\u001b[0m\u001b[0;34m)\u001b[0m\u001b[0;34m\u001b[0m\u001b[0;34m\u001b[0m\u001b[0m\n\u001b[1;32m    201\u001b[0m \u001b[0;34m\u001b[0m\u001b[0m\n\u001b[0;32m--> 202\u001b[0;31m             \u001b[0mself\u001b[0m\u001b[0;34m.\u001b[0m\u001b[0m_save\u001b[0m\u001b[0;34m(\u001b[0m\u001b[0;34m)\u001b[0m\u001b[0;34m\u001b[0m\u001b[0;34m\u001b[0m\u001b[0m\n\u001b[0m\u001b[1;32m    203\u001b[0m \u001b[0;34m\u001b[0m\u001b[0m\n\u001b[1;32m    204\u001b[0m         \u001b[0;32mfinally\u001b[0m\u001b[0;34m:\u001b[0m\u001b[0;34m\u001b[0m\u001b[0;34m\u001b[0m\u001b[0m\n",
            "\u001b[0;32m/usr/local/lib/python3.6/dist-packages/pandas/io/formats/csvs.py\u001b[0m in \u001b[0;36m_save\u001b[0;34m(self)\u001b[0m\n\u001b[1;32m    322\u001b[0m                 \u001b[0;32mbreak\u001b[0m\u001b[0;34m\u001b[0m\u001b[0;34m\u001b[0m\u001b[0m\n\u001b[1;32m    323\u001b[0m \u001b[0;34m\u001b[0m\u001b[0m\n\u001b[0;32m--> 324\u001b[0;31m             \u001b[0mself\u001b[0m\u001b[0;34m.\u001b[0m\u001b[0m_save_chunk\u001b[0m\u001b[0;34m(\u001b[0m\u001b[0mstart_i\u001b[0m\u001b[0;34m,\u001b[0m \u001b[0mend_i\u001b[0m\u001b[0;34m)\u001b[0m\u001b[0;34m\u001b[0m\u001b[0;34m\u001b[0m\u001b[0m\n\u001b[0m\u001b[1;32m    325\u001b[0m \u001b[0;34m\u001b[0m\u001b[0m\n\u001b[1;32m    326\u001b[0m     \u001b[0;32mdef\u001b[0m \u001b[0m_save_chunk\u001b[0m\u001b[0;34m(\u001b[0m\u001b[0mself\u001b[0m\u001b[0;34m,\u001b[0m \u001b[0mstart_i\u001b[0m\u001b[0;34m,\u001b[0m \u001b[0mend_i\u001b[0m\u001b[0;34m)\u001b[0m\u001b[0;34m:\u001b[0m\u001b[0;34m\u001b[0m\u001b[0;34m\u001b[0m\u001b[0m\n",
            "\u001b[0;32m/usr/local/lib/python3.6/dist-packages/pandas/io/formats/csvs.py\u001b[0m in \u001b[0;36m_save_chunk\u001b[0;34m(self, start_i, end_i)\u001b[0m\n\u001b[1;32m    338\u001b[0m                 \u001b[0mdecimal\u001b[0m\u001b[0;34m=\u001b[0m\u001b[0mself\u001b[0m\u001b[0;34m.\u001b[0m\u001b[0mdecimal\u001b[0m\u001b[0;34m,\u001b[0m\u001b[0;34m\u001b[0m\u001b[0;34m\u001b[0m\u001b[0m\n\u001b[1;32m    339\u001b[0m                 \u001b[0mdate_format\u001b[0m\u001b[0;34m=\u001b[0m\u001b[0mself\u001b[0m\u001b[0;34m.\u001b[0m\u001b[0mdate_format\u001b[0m\u001b[0;34m,\u001b[0m\u001b[0;34m\u001b[0m\u001b[0;34m\u001b[0m\u001b[0m\n\u001b[0;32m--> 340\u001b[0;31m                 \u001b[0mquoting\u001b[0m\u001b[0;34m=\u001b[0m\u001b[0mself\u001b[0m\u001b[0;34m.\u001b[0m\u001b[0mquoting\u001b[0m\u001b[0;34m,\u001b[0m\u001b[0;34m\u001b[0m\u001b[0;34m\u001b[0m\u001b[0m\n\u001b[0m\u001b[1;32m    341\u001b[0m             )\n\u001b[1;32m    342\u001b[0m \u001b[0;34m\u001b[0m\u001b[0m\n",
            "\u001b[0;32m/usr/local/lib/python3.6/dist-packages/pandas/core/internals/blocks.py\u001b[0m in \u001b[0;36mto_native_types\u001b[0;34m(self, slicer, na_rep, float_format, decimal, quoting, **kwargs)\u001b[0m\n\u001b[1;32m   2130\u001b[0m \u001b[0;34m\u001b[0m\u001b[0m\n\u001b[1;32m   2131\u001b[0m             \u001b[0;32mif\u001b[0m \u001b[0;32mnot\u001b[0m \u001b[0mquoting\u001b[0m\u001b[0;34m:\u001b[0m\u001b[0;34m\u001b[0m\u001b[0;34m\u001b[0m\u001b[0m\n\u001b[0;32m-> 2132\u001b[0;31m                 \u001b[0mvalues\u001b[0m \u001b[0;34m=\u001b[0m \u001b[0mvalues\u001b[0m\u001b[0;34m.\u001b[0m\u001b[0mastype\u001b[0m\u001b[0;34m(\u001b[0m\u001b[0mstr\u001b[0m\u001b[0;34m)\u001b[0m\u001b[0;34m\u001b[0m\u001b[0;34m\u001b[0m\u001b[0m\n\u001b[0m\u001b[1;32m   2133\u001b[0m             \u001b[0;32melse\u001b[0m\u001b[0;34m:\u001b[0m\u001b[0;34m\u001b[0m\u001b[0;34m\u001b[0m\u001b[0m\n\u001b[1;32m   2134\u001b[0m                 \u001b[0mvalues\u001b[0m \u001b[0;34m=\u001b[0m \u001b[0mnp\u001b[0m\u001b[0;34m.\u001b[0m\u001b[0marray\u001b[0m\u001b[0;34m(\u001b[0m\u001b[0mvalues\u001b[0m\u001b[0;34m,\u001b[0m \u001b[0mdtype\u001b[0m\u001b[0;34m=\u001b[0m\u001b[0;34m\"object\"\u001b[0m\u001b[0;34m)\u001b[0m\u001b[0;34m\u001b[0m\u001b[0;34m\u001b[0m\u001b[0m\n",
            "\u001b[0;31mKeyboardInterrupt\u001b[0m: "
          ]
        }
      ]
    },
    {
      "cell_type": "code",
      "metadata": {
        "id": "C7p7Zn2CfJpX",
        "colab_type": "code",
        "colab": {}
      },
      "source": [
        "DK=20;\n",
        "S0=SP(d0,K)\n",
        "S1=SP(d1,K)\n",
        "print('here')\n",
        "S2=SP(d2,K)\n",
        "S3=SP(d3,K)\n",
        "S4=SP(d4,K)\n",
        "print('here')\n",
        "S5=SP(d5,K)\n",
        "S6=SP(d6,K)\n",
        "S7=SP(d7,K)\n",
        "print('here')\n",
        "S8=SP(d8,K)\n",
        "S9=SP(d9,K)"
      ],
      "execution_count": 0,
      "outputs": []
    },
    {
      "cell_type": "code",
      "metadata": {
        "id": "WK5txjXfixKi",
        "colab_type": "code",
        "colab": {}
      },
      "source": [
        "S0=np.array([530,3765,584,1875,4674,3885,298,3680,1030,3350,5098,3346,1524,3006,1782,2635,1511,3234,5228,2036,2019,5030,5040,481,3736,1861,4409,5226,1555,3001,452,460,4513,5690])\n",
        "S1=np.array([1108,4388,898,6735,676,5537,40,1344,6026,3690,2552,3925,804,4458,3308,447,2429,5023,2740,5685,992,726])\n",
        "S2=np.array([3228,842,2378,2262,362,961,\t2806,\t1381,\t311,\t2046,\t2942,\t5836,\t2124,\t5801,\t1361,\t5171,\t4969\t,2465,\t5956,\t358,\t5421,\t326,\t1174,\t3272,\t986,\t2413,\t1519,\t51,\t2910,\t1212,\t1019,\t5407,\t2278,\t222,\t2241,\t3814,\t1786,\t1022,\t4337,\t4977,\t4491,\t1673,\t3062,\t5318,\t2337,\t5497,\t2005,\t2864,\t4939,\t3585\t,54,\t425,\t1138,\t271,\t2449,\t284])\n",
        "S3=np.array([2268\t,1818\t,1186\t,2259\t,1750\t,2295\t,852\t,3783\t,2267\t,788\t,3710\t,1432\t,630\t,2297\t,3973\t,2419\t,5951\t,3114\t,2262\t,576\t,1870\t,381\t,268\t,1040\t,738\t,980\t,486\t,2720\t,5333\t,5282\t,2171\t,937\t,4600\t,5499\t,5849\t,3693\t,1525\t,1482\t,5854\t,1252\t,2626\t,3787\t,2030\t,2970\t,4815\t,2946\t,501\t,686\t,3626\t,2688\t,391\t,5074\t,5559\t,4056\t,4329])\n",
        "S4=np.array([935,\t4478,\t109,\t3523,\t536,\t3698,\t245,\t436,\t2657,\t1305,\t5515,\t231,\t3724,\t676,\t376,\t2671,\t1175,\t2442,\t977,\t4954,\t2010,\t2140,\t2198,\t799,\t1637,\t1711,\t1780,\t3156,\t5727,\t2507,\t4541,\t3133,\t1605,\t4944,\t3361,\t1346,\t4895,\t5797,\t2763,\t5199,\t5619,\t2447,\t677,\t2379,\t4902,\t793,\t3315,\t2246,\t45,\t1254,\t2184])\n",
        "S5=np.array([3476\t,3781\t,4784\t,189\t,1469\t,4505\t,4919\t,1460\t,1954\t,5179\t,5158\t,2008\t,4733\t,4456\t,2259\t,2152\t,1945\t,886\t,1062\t,682\t,4165\t,57\t,2670\t,1630\t,78\t,3104\t,3542\t,1239\t,2722\t,4058\t,4994\t,1667\t,3168\t,3282\t,671\t,5086\t,2056\t,3465\t,2564\t,4928\t,2423\t,2089\t,3370\t,3527\t,5361\t,4946\t,4470\t,1462\t,2041\t,3043\t,528\t,3268\t,3923\t,4515,\t2367\t,2726\t,2333\t,2567])\n",
        "S6=np.array([3570\t,4805\t,5389\t,929\t,5557\t,2789\t,4530\t,193\t,2481\t,4074\t,4038\t,1926\t,2730\t,2738\t,4350\t,2133\t,3293\t,1326\t,5006\t,848\t,2608\t,2666\t,2419\t,5309\t,1238\t,1144\t,1198\t,5530\t,5834\t,1517\t,2111\t,2792\t,4212\t,5846\t,2479\t,4567\t,5433\t,5199\t,3435\t,3037\t,4895\t,677])\n",
        "S7=np.array([3751\t,2340\t,3822\t,2192\t,1565\t,1147\t,1988,\t4416\t,5976\t,2492\t,1011\t,3985\t,5143\t,6035\t,4553\t,3779\t,749\t,6192\t,2810\t,4454\t,3637\t,3936\t,4352\t,5998\t,5207\t,5969\t,4138\t,4938\t,274\t,2818\t,5924\t,1702\t,1156\t,6114\t,1673\t,3391\t,3675\t,2495\t,3270\t,243\t,2354\t,3019\t,5023])\n",
        "S8=np.array([1932\t,2178\t,1329\t,4506\t,3763\t,2137\t,1246\t,4777\t,3548\t,1290\t,3173\t,3123\t,2693\t,401\t,985\t,2984\t,4941\t,3816\t,2721\t,1262\t,4616\t,690\t,3710\t,4317\t,5166\t,5481\t,5598\t,257\t,638\t,4540\t,5039\t,5591\t,5110\t,3180\t,2182\t,2813\t,4968\t,2275\t,3567\t,1712\t,282\t,3100\t,2993\t,5755\t,5690\t,516\t,295\t,1058,\t4386\t,5059\t,2320\t,2600\t,2816\t,4157\t,5611])\n",
        "S9=np.array([3084,\t4901,\t670,\t1205,\t1800,\t3000,\t3098,\t2111,\t5044,\t4969,\t647,\t4285,\t1150,\t4360,\t1864,\t2102,\t3493,\t2452,\t3255,\t3834,\t2498,\t3169,\t3750,\t2027,\t993,\t910,\t765,\t5846,\t2570,\t4886,\t729,\t4733,\t2474\t,3152,\t365,\t3564,\t853,\t663,\t2032\t,1868\t,1711\t,2193\t,2773])"
      ],
      "execution_count": 0,
      "outputs": []
    },
    {
      "cell_type": "code",
      "metadata": {
        "id": "F9k7ZeuvFMsw",
        "colab_type": "code",
        "colab": {}
      },
      "source": [
        "S0=S0-1\n",
        "S1=S1-1\n",
        "S2=S2-1\n",
        "S3=S3-1\n",
        "S4=S4-1\n",
        "S5=S5-1\n",
        "S6=S6-1\n",
        "S7=S7-1\n",
        "S8=S8-1\n",
        "S9=S9-1"
      ],
      "execution_count": 0,
      "outputs": []
    },
    {
      "cell_type": "code",
      "metadata": {
        "id": "9zy8xK7YFlmk",
        "colab_type": "code",
        "colab": {}
      },
      "source": [
        "S0=np.array([3672, 3906, 4745, 4080, 1486, 1808, 1011,  591, 3509, 2029, 1827, 2411, 5448, 2875, 2681, 3683,  831, 5203, 5631, 4878])\n",
        "S1=np.array([3121, 2871, 2328, 5804, 2616, 1807, 5637, 1476,  285, 6023,  854, 5316, 6223, 4205, 5973, 5859, 5240, 5384, 6388, 5871])\n",
        "S2=np.array([3707, 3191,  151, 5478, 2349,  384, 4132, 5500, 2997, 1555, 1972, 4930, 4840, 1302, 3295, 1250, 1935, 5823, 5563, 5856])\n",
        "S3=np.array([4292, 1469, 4173, 3566,  911, 4849,  366, 5101, 1238, 2363,  511, 1302, 5979,  722, 1328, 4528, 5587, 5550, 5617, 5129])\n",
        "S4=np.array([2580, 2483, 1427, 3920, 5839, 3848, 2282, 3012, 1937, 3619, 3043, 4907, 2367, 3689, 1028, 3215,  724, 2659, 4728, 4540])\n",
        "S5=np.array([3772, 4124, 3158, 2530, 1336, 3228, 1175,   52, 4328,  651, 1951, 3788, 5114,  541, 545, 1714, 1059,  757,  966, 2418])\n",
        "S6=np.array([ 590,  580, 5691, 2862, 2574, 4424, 5038, 5398, 1122, 4920,  311, 3425, 3655, 3752, 4310,  501, 1144, 2896, 2381, 1763])\n",
        "S7=np.array([3754, 4159, 3648, 1189, 1147, 3540, 4036, 2166,  430, 3629, 1617, 5613, 3255, 2679, 5332, 5487, 2264, 6107, 4139, 4423])\n",
        "S8=np.array([2113, 3158, 1678,  337, 5053, 5294,  426, 4047, 1610, 3091, 4651, 3312, 2623, 2808, 2432, 5349,  354, 4973, 5771, 1235])\n",
        "S9=np.array([2348, 5636, 5037, 3060, 3699, 5432,  762,  968, 1416,  161, 5699, 2032, 1974, 5678, 1694, 2183, 5248, 2090, 4191,   79])"
      ],
      "execution_count": 0,
      "outputs": []
    },
    {
      "cell_type": "code",
      "metadata": {
        "id": "1tFtTo115qLh",
        "colab_type": "code",
        "colab": {}
      },
      "source": [
        "S90=S80=S70=S60=S50=S40=S30=S20=S10=S00=np.arange(30)\n",
        "S0=np.concatenate((S0,S00))\n",
        "S1=np.concatenate((S1,S00))\n",
        "S2=np.concatenate((S2,S00))\n",
        "S3=np.concatenate((S3,S00))\n",
        "S4=np.concatenate((S4,S00))\n",
        "S5=np.concatenate((S5,S00))\n",
        "S6=np.concatenate((S6,S00))\n",
        "S7=np.concatenate((S7,S00))\n",
        "S8=np.concatenate((S8,S00))\n",
        "S9=np.concatenate((S9,S00))\n",
        "# S0=np.arange(46)\n",
        "# S1=np.arange(46)\n",
        "# S2=np.arange(46)\n",
        "# S3=np.arange(46)\n",
        "# S4=np.arange(46)\n",
        "# S5=np.arange(46)\n",
        "# S6=np.arange(46)\n",
        "# S7=np.arange(46)\n",
        "# S8=np.arange(46)\n",
        "# S9=np.arange(46)"
      ],
      "execution_count": 0,
      "outputs": []
    },
    {
      "cell_type": "code",
      "metadata": {
        "id": "gRMWT3fRkFEA",
        "colab_type": "code",
        "colab": {}
      },
      "source": [
        "\n",
        "Data0_sel=d0[:,S0]\n",
        "Data1_sel=d1[:,S1]\n",
        "Data2_sel=d2[:,S2]\n",
        "Data3_sel=d3[:,S3]\n",
        "Data4_sel=d4[:,S4]\n",
        "Data5_sel=d5[:,S5]\n",
        "Data6_sel=d6[:,S6]\n",
        "Data7_sel=d7[:,S7]\n",
        "Data8_sel=d8[:,S8]\n",
        "Data9_sel=d9[:,S9]\n"
      ],
      "execution_count": 0,
      "outputs": []
    },
    {
      "cell_type": "code",
      "metadata": {
        "id": "oyduK3aWfxJA",
        "colab_type": "code",
        "colab": {}
      },
      "source": [
        "Data0_sel=np.concatenate((Data0_sel,np.ones([784,1])),axis=1)\n",
        "Data1_sel=np.concatenate((Data1_sel,np.ones([784,1])),axis=1)\n",
        "Data2_sel=np.concatenate((Data2_sel,np.ones([784,1])),axis=1)\n",
        "Data3_sel=np.concatenate((Data3_sel,np.ones([784,1])),axis=1)\n",
        "Data4_sel=np.concatenate((Data4_sel,np.ones([784,1])),axis=1)\n",
        "Data5_sel=np.concatenate((Data5_sel,np.ones([784,1])),axis=1)\n",
        "Data6_sel=np.concatenate((Data6_sel,np.ones([784,1])),axis=1)\n",
        "Data7_sel=np.concatenate((Data7_sel,np.ones([784,1])),axis=1)\n",
        "Data8_sel=np.concatenate((Data8_sel,np.ones([784,1])),axis=1)\n",
        "Data9_sel=np.concatenate((Data9_sel,np.ones([784,1])),axis=1)\n"
      ],
      "execution_count": 0,
      "outputs": []
    },
    {
      "cell_type": "code",
      "metadata": {
        "id": "vjx1o2DB60d0",
        "colab_type": "code",
        "colab": {}
      },
      "source": [
        "df3=df3.to_numpy()\n",
        "df3.astype('float32')\n",
        "df3=255.-df3\n",
        "df3/=255\n",
        "# df3=df3-np.mean(df3)\n"
      ],
      "execution_count": 0,
      "outputs": []
    },
    {
      "cell_type": "code",
      "metadata": {
        "id": "i1recIl27TlB",
        "colab_type": "code",
        "colab": {
          "base_uri": "https://localhost:8080/",
          "height": 1000
        },
        "outputId": "43d190aa-6c1e-442e-88d7-4b07c6b0f792"
      },
      "source": [
        "from __future__ import print_function\n",
        "import keras\n",
        "from keras.datasets import mnist\n",
        "from keras.models import Sequential\n",
        "from keras.layers import Dense, Dropout, Flatten\n",
        "from keras.layers import Conv2D, MaxPooling2D\n",
        "from keras import backend as K\n",
        "\n",
        "batch_size = 128\n",
        "num_classes = 10\n",
        "epochs = 12\n",
        "\n",
        "# input image dimensions\n",
        "img_rows, img_cols = 28, 28\n",
        "\n",
        "# the data, split between train and test sets\n",
        "(x_train, y_train), (x_test, y_test) = mnist.load_data()\n",
        "\n",
        "if K.image_data_format() == 'channels_first':\n",
        "    x_train = x_train.reshape(x_train.shape[0], 1, img_rows, img_cols)\n",
        "    x_test = x_test.reshape(x_test.shape[0], 1, img_rows, img_cols)\n",
        "    input_shape = (1, img_rows, img_cols)\n",
        "else:\n",
        "    x_train = x_train.reshape(x_train.shape[0], img_rows, img_cols, 1)\n",
        "    x_test = x_test.reshape(x_test.shape[0], img_rows, img_cols, 1)\n",
        "    input_shape = (img_rows, img_cols, 1)\n",
        "\n",
        "x_train = x_train.astype('float32')\n",
        "x_test = x_test.astype('float32')\n",
        "x_train /= 255\n",
        "x_test /= 255\n",
        "# x_train=x_train-np.mean(x_train)\n",
        "# x_test=x_test-np.mean(x_test)\n",
        "print('x_train shape:', x_train.shape)\n",
        "print(x_train.shape[0], 'train samples')\n",
        "print(x_test.shape[0], 'test samples')\n",
        "\n",
        "# convert class vectors to binary class matrices\n",
        "y_train = keras.utils.to_categorical(y_train, num_classes)\n",
        "y_test = keras.utils.to_categorical(y_test, num_classes)\n",
        "\n",
        "model = Sequential()\n",
        "model.add(Conv2D(32, kernel_size=(3, 3),\n",
        "                 activation='relu',\n",
        "                 input_shape=input_shape))\n",
        "model.add(Conv2D(64, (3, 3), activation='relu'))\n",
        "model.add(MaxPooling2D(pool_size=(2, 2)))\n",
        "model.add(Dropout(0.25))\n",
        "model.add(Flatten())\n",
        "model.add(Dense(128, activation='relu'))\n",
        "model.add(Dropout(0.5))\n",
        "model.add(Dense(num_classes, activation='softmax'))\n",
        "\n",
        "model.compile(loss=keras.losses.categorical_crossentropy,\n",
        "              optimizer=keras.optimizers.Adadelta(),\n",
        "              metrics=['accuracy'])\n",
        "\n",
        "model.fit(x_train, y_train,\n",
        "          batch_size=batch_size,\n",
        "          epochs=epochs,\n",
        "          verbose=1,\n",
        "          validation_data=(x_test, y_test))\n",
        "score = model.evaluate(x_test, y_test, verbose=0)\n",
        "print('Test loss:', score[0])\n",
        "print('Test accuracy:', score[1])"
      ],
      "execution_count": 14,
      "outputs": [
        {
          "output_type": "stream",
          "text": [
            "Downloading data from https://s3.amazonaws.com/img-datasets/mnist.npz\n",
            "11493376/11490434 [==============================] - 1s 0us/step\n",
            "x_train shape: (60000, 28, 28, 1)\n",
            "60000 train samples\n",
            "10000 test samples\n",
            "WARNING:tensorflow:From /usr/local/lib/python3.6/dist-packages/keras/backend/tensorflow_backend.py:66: The name tf.get_default_graph is deprecated. Please use tf.compat.v1.get_default_graph instead.\n",
            "\n",
            "WARNING:tensorflow:From /usr/local/lib/python3.6/dist-packages/keras/backend/tensorflow_backend.py:541: The name tf.placeholder is deprecated. Please use tf.compat.v1.placeholder instead.\n",
            "\n",
            "WARNING:tensorflow:From /usr/local/lib/python3.6/dist-packages/keras/backend/tensorflow_backend.py:4432: The name tf.random_uniform is deprecated. Please use tf.random.uniform instead.\n",
            "\n",
            "WARNING:tensorflow:From /usr/local/lib/python3.6/dist-packages/keras/backend/tensorflow_backend.py:4267: The name tf.nn.max_pool is deprecated. Please use tf.nn.max_pool2d instead.\n",
            "\n",
            "WARNING:tensorflow:From /usr/local/lib/python3.6/dist-packages/keras/backend/tensorflow_backend.py:148: The name tf.placeholder_with_default is deprecated. Please use tf.compat.v1.placeholder_with_default instead.\n",
            "\n",
            "WARNING:tensorflow:From /usr/local/lib/python3.6/dist-packages/keras/backend/tensorflow_backend.py:3733: calling dropout (from tensorflow.python.ops.nn_ops) with keep_prob is deprecated and will be removed in a future version.\n",
            "Instructions for updating:\n",
            "Please use `rate` instead of `keep_prob`. Rate should be set to `rate = 1 - keep_prob`.\n",
            "WARNING:tensorflow:From /usr/local/lib/python3.6/dist-packages/keras/optimizers.py:793: The name tf.train.Optimizer is deprecated. Please use tf.compat.v1.train.Optimizer instead.\n",
            "\n",
            "WARNING:tensorflow:From /usr/local/lib/python3.6/dist-packages/keras/backend/tensorflow_backend.py:3576: The name tf.log is deprecated. Please use tf.math.log instead.\n",
            "\n",
            "WARNING:tensorflow:From /usr/local/lib/python3.6/dist-packages/tensorflow_core/python/ops/math_grad.py:1424: where (from tensorflow.python.ops.array_ops) is deprecated and will be removed in a future version.\n",
            "Instructions for updating:\n",
            "Use tf.where in 2.0, which has the same broadcast rule as np.where\n",
            "WARNING:tensorflow:From /usr/local/lib/python3.6/dist-packages/keras/backend/tensorflow_backend.py:1033: The name tf.assign_add is deprecated. Please use tf.compat.v1.assign_add instead.\n",
            "\n",
            "WARNING:tensorflow:From /usr/local/lib/python3.6/dist-packages/keras/backend/tensorflow_backend.py:1020: The name tf.assign is deprecated. Please use tf.compat.v1.assign instead.\n",
            "\n",
            "WARNING:tensorflow:From /usr/local/lib/python3.6/dist-packages/keras/backend/tensorflow_backend.py:3005: The name tf.Session is deprecated. Please use tf.compat.v1.Session instead.\n",
            "\n",
            "Train on 60000 samples, validate on 10000 samples\n",
            "Epoch 1/12\n",
            "WARNING:tensorflow:From /usr/local/lib/python3.6/dist-packages/keras/backend/tensorflow_backend.py:190: The name tf.get_default_session is deprecated. Please use tf.compat.v1.get_default_session instead.\n",
            "\n",
            "WARNING:tensorflow:From /usr/local/lib/python3.6/dist-packages/keras/backend/tensorflow_backend.py:197: The name tf.ConfigProto is deprecated. Please use tf.compat.v1.ConfigProto instead.\n",
            "\n",
            "WARNING:tensorflow:From /usr/local/lib/python3.6/dist-packages/keras/backend/tensorflow_backend.py:207: The name tf.global_variables is deprecated. Please use tf.compat.v1.global_variables instead.\n",
            "\n",
            "WARNING:tensorflow:From /usr/local/lib/python3.6/dist-packages/keras/backend/tensorflow_backend.py:216: The name tf.is_variable_initialized is deprecated. Please use tf.compat.v1.is_variable_initialized instead.\n",
            "\n",
            "WARNING:tensorflow:From /usr/local/lib/python3.6/dist-packages/keras/backend/tensorflow_backend.py:223: The name tf.variables_initializer is deprecated. Please use tf.compat.v1.variables_initializer instead.\n",
            "\n",
            "60000/60000 [==============================] - 18s 296us/step - loss: 0.2602 - acc: 0.9200 - val_loss: 0.0591 - val_acc: 0.9809\n",
            "Epoch 2/12\n",
            "60000/60000 [==============================] - 4s 62us/step - loss: 0.0883 - acc: 0.9734 - val_loss: 0.0414 - val_acc: 0.9867\n",
            "Epoch 3/12\n",
            "60000/60000 [==============================] - 4s 62us/step - loss: 0.0694 - acc: 0.9795 - val_loss: 0.0398 - val_acc: 0.9866\n",
            "Epoch 4/12\n",
            "60000/60000 [==============================] - 4s 62us/step - loss: 0.0558 - acc: 0.9835 - val_loss: 0.0333 - val_acc: 0.9888\n",
            "Epoch 5/12\n",
            "60000/60000 [==============================] - 4s 62us/step - loss: 0.0489 - acc: 0.9855 - val_loss: 0.0319 - val_acc: 0.9884\n",
            "Epoch 6/12\n",
            "60000/60000 [==============================] - 4s 63us/step - loss: 0.0430 - acc: 0.9870 - val_loss: 0.0303 - val_acc: 0.9904\n",
            "Epoch 7/12\n",
            "60000/60000 [==============================] - 4s 62us/step - loss: 0.0390 - acc: 0.9882 - val_loss: 0.0277 - val_acc: 0.9905\n",
            "Epoch 8/12\n",
            "60000/60000 [==============================] - 4s 64us/step - loss: 0.0360 - acc: 0.9889 - val_loss: 0.0285 - val_acc: 0.9908\n",
            "Epoch 9/12\n",
            "60000/60000 [==============================] - 4s 64us/step - loss: 0.0324 - acc: 0.9902 - val_loss: 0.0266 - val_acc: 0.9913\n",
            "Epoch 10/12\n",
            "60000/60000 [==============================] - 4s 65us/step - loss: 0.0308 - acc: 0.9905 - val_loss: 0.0275 - val_acc: 0.9909\n",
            "Epoch 11/12\n",
            "60000/60000 [==============================] - 4s 61us/step - loss: 0.0291 - acc: 0.9911 - val_loss: 0.0264 - val_acc: 0.9910\n",
            "Epoch 12/12\n",
            "60000/60000 [==============================] - 4s 62us/step - loss: 0.0275 - acc: 0.9917 - val_loss: 0.0261 - val_acc: 0.9919\n",
            "Test loss: 0.02606685844139174\n",
            "Test accuracy: 0.9919\n"
          ],
          "name": "stdout"
        }
      ]
    },
    {
      "cell_type": "code",
      "metadata": {
        "id": "cDNeRZ49wa2n",
        "colab_type": "code",
        "colab": {}
      },
      "source": [
        "# This part goes to open set detection \n",
        "\n",
        "# 1: We create a test dataset consisting of omniglot and the test data of the mnist itself \n",
        "\n",
        "opendata=np.concatenate((np.reshape(x_test,[len(x_test),784]),df3))\n",
        "pred1=model.predict(np.reshape(opendata[0:20000,:],[20000,28,28,1]))\n",
        "L1=np.zeros(20000,)\n",
        "for i in range(20000):\n",
        "  L1[i]=np.array(np.where(pred1[i,:]==np.max(pred1[i,:])))\n",
        "#test_data=np.concatenate(df3,dte)\n",
        "# 2: create the prediction, \n",
        "\n",
        "\n",
        "# We project the data on the selected data classes and find the error. We compare the error to a threshold to approve the labled class or deny it and protect classes form open data:\n"
      ],
      "execution_count": 0,
      "outputs": []
    },
    {
      "cell_type": "code",
      "metadata": {
        "id": "q_Ign6CSbQdT",
        "colab_type": "code",
        "colab": {}
      },
      "source": [
        "alpha=0.001;\n",
        "P0=np.matmul(np.linalg.inv(np.matmul(np.transpose(Data0_sel),Data0_sel)+np.diag(np.multiply(np.ones(len(S0)+1),alpha))),np.transpose(Data0_sel))\n",
        "P1=np.matmul(np.linalg.inv(np.matmul(np.transpose(Data1_sel),Data1_sel)+np.diag(np.multiply(np.ones(len(S1)+1),alpha))),np.transpose(Data1_sel))\n",
        "P2=np.matmul(np.linalg.inv(np.matmul(np.transpose(Data2_sel),Data2_sel)+np.diag(np.multiply(np.ones(len(S2)+1),alpha))),np.transpose(Data2_sel))\n",
        "P3=np.matmul(np.linalg.inv(np.matmul(np.transpose(Data3_sel),Data3_sel)+np.diag(np.multiply(np.ones(len(S3)+1),alpha))),np.transpose(Data3_sel))\n",
        "P4=np.matmul(np.linalg.inv(np.matmul(np.transpose(Data4_sel),Data4_sel)+np.diag(np.multiply(np.ones(len(S4)+1),alpha))),np.transpose(Data4_sel))\n",
        "P5=np.matmul(np.linalg.inv(np.matmul(np.transpose(Data5_sel),Data5_sel)+np.diag(np.multiply(np.ones(len(S5)+1),alpha))),np.transpose(Data5_sel))\n",
        "P6=np.matmul(np.linalg.inv(np.matmul(np.transpose(Data6_sel),Data6_sel)+np.diag(np.multiply(np.ones(len(S6)+1),alpha))),np.transpose(Data6_sel))\n",
        "P7=np.matmul(np.linalg.inv(np.matmul(np.transpose(Data7_sel),Data7_sel)+np.diag(np.multiply(np.ones(len(S7)+1),alpha))),np.transpose(Data7_sel))\n",
        "P8=np.matmul(np.linalg.inv(np.matmul(np.transpose(Data8_sel),Data8_sel)+np.diag(np.multiply(np.ones(len(S8)+1),alpha))),np.transpose(Data8_sel))\n",
        "P9=np.matmul(np.linalg.inv(np.matmul(np.transpose(Data9_sel),Data9_sel)+np.diag(np.multiply(np.ones(len(S9)+1),alpha))),np.transpose(Data9_sel))\n",
        "\n"
      ],
      "execution_count": 0,
      "outputs": []
    },
    {
      "cell_type": "code",
      "metadata": {
        "id": "fEDjziKiK0dQ",
        "colab_type": "code",
        "colab": {}
      },
      "source": [
        "import sklearn\n",
        "from sklearn import metrics\n",
        "y_true=np.zeros(20000,)\n",
        "y_true[0:10000]=yy\n",
        "y_true[10000:20000]=np.multiply(11,np.ones_like(y_true[10000:20000]))\n",
        "y_true=np.zeros(20000,)\n",
        "y_true[0:10000]=yy\n",
        "y_true[10000:20000]=np.multiply(11,np.ones_like(y_true[10000:20000]))\n",
        "yq=y_true\n",
        "y_kos=np.zeros(20000,)\n",
        "y_kos[y_true!=11]=0\n",
        "y_kos[y_true==11]=1"
      ],
      "execution_count": 0,
      "outputs": []
    },
    {
      "cell_type": "code",
      "metadata": {
        "id": "PzLz_E9fSkOG",
        "colab_type": "code",
        "outputId": "89762eae-0333-40f0-904f-4b91a1222956",
        "colab": {
          "base_uri": "https://localhost:8080/",
          "height": 312
        }
      },
      "source": [
        "#P0=np.linalg.pinv(Data0_sel)\n",
        "#P1=np.linalg.pinv(Data1_sel)\n",
        "#P2=np.linalg.pinv(Data2_sel)\n",
        "#P3=np.linalg.pinv(Data3_sel)\n",
        "#P4=np.linalg.pinv(Data4_sel)\n",
        "#P5=np.linalg.pinv(Data5_sel)\n",
        "#P6=np.linalg.pinv(Data6_sel)\n",
        "#P7=np.linalg.pinv(Data7_sel)\n",
        "#P8=np.linalg.pinv(Data8_sel)\n",
        "#P9=np.linalg.pinv(Data9_sel)\n",
        "err=np.zeros(20000,)\n",
        "y3=np.zeros(20000,)\n",
        "L11=np.zeros(20000,)\n",
        "y3=[yq[i] for i in range(20000)]\n",
        "for i in range(20000):\n",
        "   opendata[i,:]=opendata[i,:]/np.linalg.norm(opendata[i,:])\n",
        "for kir  in range(1):\n",
        "  for i in range(20000):\n",
        "    if L1[i]==0:\n",
        "      coef=np.matmul(P0,opendata[i,:])\n",
        "      projected=np.matmul(Data0_sel,coef)\n",
        "      err[i]=np.array(np.linalg.norm(projected-opendata[i,:]))\n",
        "    if L1[i]==1:\n",
        "      coef=np.matmul(P1,opendata[i,:])\n",
        "      projected=np.matmul(Data1_sel,coef)\n",
        "      err[i]=np.array(np.linalg.norm(projected-opendata[i,:]))\n",
        "    if L1[i]==2:\n",
        "      coef=np.matmul(P2,opendata[i,:])\n",
        "      projected=np.matmul(Data2_sel,coef)\n",
        "      err[i]=np.array(np.linalg.norm(projected-opendata[i,:]))\n",
        "    if L1[i]==3:\n",
        "      coef=np.matmul(P3,opendata[i,:])\n",
        "      projected=np.matmul(Data3_sel,coef)\n",
        "      err[i]=np.array(np.linalg.norm(projected-opendata[i,:]))        \n",
        "    if L1[i]==4:\n",
        "      coef=np.matmul(P4,opendata[i,:])\n",
        "      projected=np.matmul(Data4_sel,coef)\n",
        "      err[i]=np.array(np.linalg.norm(projected-opendata[i,:]))\n",
        "    if L1[i]==5:\n",
        "      coef=np.matmul(P5,opendata[i,:])\n",
        "      projected=np.matmul(Data5_sel,coef)\n",
        "      err[i]=np.array(np.linalg.norm(projected-opendata[i,:]))\n",
        "    if L1[i]==6:\n",
        "      coef=np.matmul(P6,opendata[i,:])\n",
        "      projected=np.matmul(Data6_sel,coef)\n",
        "      err[i]=np.array(np.linalg.norm(projected-opendata[i,:]))            \n",
        "    if L1[i]==7:\n",
        "      coef=np.matmul(P7,opendata[i,:])\n",
        "      projected=np.matmul(Data7_sel,coef)\n",
        "      err[i]=np.array(np.linalg.norm(projected-opendata[i,:]))\n",
        "    if L1[i]==8:\n",
        "      coef=np.matmul(P8,opendata[i,:])\n",
        "      projected=np.matmul(Data8_sel,coef)\n",
        "      err[i]=np.array(np.linalg.norm(projected-opendata[i,:]))\n",
        "    if L1[i]==9:\n",
        "      coef=np.matmul(P9,opendata[i,:])\n",
        "      projected=np.matmul(Data9_sel,coef)\n",
        "      err[i]=np.array(np.linalg.norm(projected-opendata[i,:])) \n",
        "#thresh=[0.000001,0.000005,0.00001, 0.00004, 0.00008, 0.0002,0.0004,0.0006, 0.001,0.005,0.01,0.02,0.04,0.06,0.08,0.1,0.13,0.16,0.19,0.21,0.25,0.28, 0.30, 0.33,0.35, 0.38,0.4,0.425, 0.45, 0.475,0.5, 0.525,0.55, 0.58, 0.6,0.625, 0.65,0.66, 0.68, 0.69, 0.7, 0.715,0.735, 0.75, 0.77, 0.78, 0.79, 0.8, 0.82, 0.83, 0.85, 0.88, 0.9, 0.93, 0.96]\n",
        "thresh=[0.018,0.02,0.04,0.06,0.08,0.1,0.13,0.16,0.19,0.21,0.25,0.28, 0.30, 0.33,0.35, 0.38,0.4,0.425, 0.45, 0.475,0.5, 0.525,0.55, 0.58, 0.6,0.625, 0.65,0.66, 0.68, 0.69, 0.7, 0.715,0.735, 0.75, 0.77, 0.78, 0.79, 0.8, 0.82, 0.83, 0.85, 0.88]\n",
        "Q=len(thresh)\n",
        "tool=np.zeros(Q,)\n",
        "arz=np.zeros(Q,)\n",
        "TP=np.zeros(Q)\n",
        "F1=np.zeros(Q)\n",
        "FP=np.zeros(Q)\n",
        "TN=np.zeros(Q)\n",
        "roc_auc=np.zeros(Q,)\n",
        "for q in range(Q):\n",
        "  #threshold=thresh[q]\n",
        "  threshold=thresh[q]\n",
        "  Lb=np.zeros(20000,)\n",
        "  for i in range(20000):\n",
        "    if err[i]>threshold:\n",
        "      L11[i]=11\n",
        "    elif err[i]<=threshold:\n",
        "      L11[i]=L1[i]\n",
        "  \n",
        "  Lb[L11!=11]=0\n",
        "  Lb[L11==11]=1\n",
        "\n",
        "# Compute micro-average ROC curve and ROC area\n",
        "  #fpr, tpr, _ = roc_curve(Lb,y_kir)\n",
        "  #print(tpr)\n",
        "  #roc_auc[q] = auc(fpr,tpr)\n",
        "  #FP[q]=fpr[1]*2\n",
        "  #TP[q]=(tpr[1]-0.5)*2\n",
        "  # tp=0\n",
        "  # for i in range(20000):\n",
        "  #   if Lb[i]==0 and y_kir[i]==0:\n",
        "  #     tp=tp+1\n",
        "  # TP[q]=1-tp/10000\n",
        "  # tn=0\n",
        "  # for i in range(20000):\n",
        "  #   if Lb[i]!=0 and y_kir[i]==0:\n",
        "  #     tn=tn+1\n",
        "  # TN[q]=tn/10000\n",
        "  # fp=0\n",
        "  # for i in range(20000):\n",
        "  #   if Lb[i]!=0 and y_kir[i]!=0:\n",
        "  #     fp=fp+1\n",
        "  # FP[q]=fp/10000\n",
        "  oo=sklearn.metrics.roc_curve(y_kos, Lb)\n",
        "  TP[q]=oo[1][1]\n",
        "  FP[q]=oo[0][1]\n",
        "  F1[q]=sklearn.metrics.f1_score(y_true, L11, average='macro')\n",
        "import matplotlib.pyplot as plt\n",
        "#plt.plot(TP,FP)\n",
        "plt.figure()\n",
        "lw = 2\n",
        "plt.plot(FP,TP,'b^', lw=lw)\n",
        "#plt.plot([0, 0.06], [0, 1], color='navy', lw=lw, linestyle='--')\n",
        "#plt.xlim([0.0, 0.06])\n",
        "#plt.ylim([0.0, 1.00])\n",
        "plt.xlabel('False Positive Rate')\n",
        "plt.ylabel('True Positive Rate')\n",
        "plt.title('Receiver operating characteristic')\n",
        "plt.legend(loc=\"lower right\")\n",
        "plt.show() "
      ],
      "execution_count": 21,
      "outputs": [
        {
          "output_type": "stream",
          "text": [
            "No handles with labels found to put in legend.\n"
          ],
          "name": "stderr"
        },
        {
          "output_type": "display_data",
          "data": {
            "image/png": "[encoded data removed]",
            "text/plain": [
              "<Figure size 432x288 with 1 Axes>"
            ]
          },
          "metadata": {
            "tags": []
          }
        }
      ]
    },
    {
      "cell_type": "code",
      "metadata": {
        "id": "atSJTzb2IYt-",
        "colab_type": "code",
        "colab": {}
      },
      "source": [
        "TP_sel=TP\n",
        "FP_sel=FP\n",
        "F1_sel=F1"
      ],
      "execution_count": 0,
      "outputs": []
    },
    {
      "cell_type": "code",
      "metadata": {
        "id": "CizeBN8YQKVJ",
        "colab_type": "code",
        "outputId": "4ef421bb-fc2c-48cc-b0ba-e4d812402c9f",
        "colab": {
          "base_uri": "https://localhost:8080/",
          "height": 170
        }
      },
      "source": [
        "#np.transpose(thresh)\n",
        "F1_sel"
      ],
      "execution_count": 23,
      "outputs": [
        {
          "output_type": "execute_result",
          "data": {
            "text/plain": [
              "array([0.06060606, 0.06060606, 0.06060606, 0.06060606, 0.06060606,\n",
              "       0.06060606, 0.06092992, 0.06941576, 0.09992742, 0.12990363,\n",
              "       0.24241528, 0.35529277, 0.45217349, 0.59148991, 0.67211327,\n",
              "       0.77146272, 0.82117409, 0.87276922, 0.91012862, 0.93659462,\n",
              "       0.95357141, 0.95841546, 0.95520904, 0.93802275, 0.9171708 ,\n",
              "       0.87825112, 0.83974039, 0.82120572, 0.78391597, 0.76660485,\n",
              "       0.74876419, 0.7236723 , 0.69284107, 0.6739672 , 0.65452535,\n",
              "       0.64755124, 0.64180377, 0.63707539, 0.63091575, 0.62872542,\n",
              "       0.62514397, 0.62184073])"
            ]
          },
          "metadata": {
            "tags": []
          },
          "execution_count": 23
        }
      ]
    },
    {
      "cell_type": "code",
      "metadata": {
        "id": "Ijayqt9BYBmu",
        "colab_type": "code",
        "outputId": "a5a1bd06-28d2-48ef-b081-801128c51970",
        "colab": {
          "base_uri": "https://localhost:8080/",
          "height": 269
        }
      },
      "source": [
        "import matplotlib.pyplot as plt\n",
        "plt.plot(np.array(thresh),F1)\n",
        "plt.xlim([0.0, 1.0])\n",
        "plt.ylabel('some numbers')\n",
        "plt.show()"
      ],
      "execution_count": 24,
      "outputs": [
        {
          "output_type": "display_data",
          "data": {
            "image/png": "[encoded data removed]",
            "text/plain": [
              "<Figure size 432x288 with 1 Axes>"
            ]
          },
          "metadata": {
            "tags": []
          }
        }
      ]
    },
    {
      "cell_type": "code",
      "metadata": {
        "id": "NIe2h6jgPBpf",
        "colab_type": "code",
        "outputId": "2635c82f-651d-4e37-d4e7-582c834f695c",
        "colab": {
          "base_uri": "https://localhost:8080/",
          "height": 34
        }
      },
      "source": [
        "np.max(F1)"
      ],
      "execution_count": 25,
      "outputs": [
        {
          "output_type": "execute_result",
          "data": {
            "text/plain": [
              "0.9584154594533975"
            ]
          },
          "metadata": {
            "tags": []
          },
          "execution_count": 25
        }
      ]
    },
    {
      "cell_type": "code",
      "metadata": {
        "id": "4pxZVthqElC3",
        "colab_type": "code",
        "outputId": "f02f393e-f8a0-4017-fedf-23f6385543f6",
        "colab": {
          "base_uri": "https://localhost:8080/",
          "height": 34
        }
      },
      "source": [
        "np.mean(opendata[0000:10000])"
      ],
      "execution_count": 26,
      "outputs": [
        {
          "output_type": "execute_result",
          "data": {
            "text/plain": [
              "0.013869191011000197"
            ]
          },
          "metadata": {
            "tags": []
          },
          "execution_count": 26
        }
      ]
    },
    {
      "cell_type": "code",
      "metadata": {
        "id": "PBdnXko3v_dP",
        "colab_type": "code",
        "colab": {}
      },
      "source": [
        ""
      ],
      "execution_count": 0,
      "outputs": []
    }
  ]
}