{
 "cells": [
  {
   "cell_type": "markdown",
   "metadata": {},
   "source": [
    "##### Please make sure to download and preprocess the data before running this notebook\n",
    "##### Use \"run.sh\" to download the data\n",
    "##### Use \"data_prep_*.ipynb\" to preprocess the data"
   ]
  },
  {
   "cell_type": "code",
   "execution_count": null,
   "metadata": {},
   "outputs": [],
   "source": [
    "import numpy as np\n",
    "import matplotlib.pyplot as plt\n",
    "import os\n",
    "import torch\n",
    "import torch.nn.functional as F\n",
    "from torch.autograd import Variable\n",
    "import torchvision.datasets as dset\n",
    "from torch.utils.data.dataset import Dataset\n",
    "from torch.utils.data import DataLoader\n",
    "from torchvision import transforms\n",
    "import scipy.io\n",
    "import random\n",
    "from PIL import Image\n",
    "from torchvision import transforms\n",
    "import matlab\n",
    "import matlab.engine\n",
    "import bayesiancoresets as bc\n",
    "\n",
    "%load_ext autoreload\n",
    "%autoreload 2"
   ]
  },
  {
   "cell_type": "markdown",
   "metadata": {},
   "source": [
    "# Feed data into the model and extract intermediate features"
   ]
  },
  {
   "cell_type": "code",
   "execution_count": null,
   "metadata": {},
   "outputs": [],
   "source": [
    "# load the pre-trained model\n",
    "from model import SiameseNet\n",
    "model = SiameseNet()\n",
    "model.load_state_dict(torch.load('ckpt/exp_old/best_model_ckpt.tar')['model_state'])\n",
    "model.eval()\n",
    "model.cuda()"
   ]
  },
  {
   "cell_type": "code",
   "execution_count": null,
   "metadata": {},
   "outputs": [],
   "source": [
    "def extract_feature(x):\n",
    "    out = F.relu(F.max_pool2d(model.conv1(x), 2))\n",
    "    out = F.relu(F.max_pool2d(model.conv2(out), 2))\n",
    "    out = F.relu(F.max_pool2d(model.conv3(out), 2))\n",
    "    out = F.relu(model.conv4(out))\n",
    "    out = out.view(out.shape[0], -1)\n",
    "    return out\n",
    "\n",
    "def compare_feature(x1, h2):\n",
    "    h2 = F.sigmoid(model.fc1(h2))\n",
    "    h1 = model.sub_forward(x1)\n",
    "    diff = torch.abs(h1 - h2)\n",
    "    scores = model.fc2(diff)\n",
    "    return scores"
   ]
  },
  {
   "cell_type": "code",
   "execution_count": null,
   "metadata": {},
   "outputs": [],
   "source": [
    "# load the dataset\n",
    "import torchvision.datasets as dset\n",
    "dataset = dset.ImageFolder(root='./data/changed/test')\n",
    "transform = transforms.ToTensor()"
   ]
  },
  {
   "cell_type": "markdown",
   "metadata": {},
   "source": [
    "# Extracts the intermediate features from the network"
   ]
  },
  {
   "cell_type": "code",
   "execution_count": null,
   "metadata": {},
   "outputs": [],
   "source": [
    "# extract intermediate features\n",
    "last_y = -1\n",
    "features = []\n",
    "with torch.no_grad():\n",
    "    for x, y in dataset:\n",
    "        if y == last_y:\n",
    "            x = x.convert('L')\n",
    "            x = transform(x).unsqueeze(0).cuda()\n",
    "            stacked = torch.cat((stacked, x), 0).cuda()\n",
    "        else:\n",
    "            if last_y != -1:\n",
    "                features.append(extract_feature(stacked).cpu().detach())\n",
    "            last_y = y\n",
    "            if last_y % 10 == 9:\n",
    "                print(last_y + 1, \"classes done\")\n",
    "            x = x.convert('L')\n",
    "            stacked = transform(x).unsqueeze(0).cuda()\n",
    "features.append(extract_feature(stacked).cpu().detach())\n",
    "torch.save(features, 'features.pth')"
   ]
  },
  {
   "cell_type": "code",
   "execution_count": null,
   "metadata": {},
   "outputs": [],
   "source": [
    "# load the pre-computed features\n",
    "features = torch.load('features.pth')"
   ]
  },
  {
   "cell_type": "markdown",
   "metadata": {},
   "source": [
    "# Select images\n",
    "##### There are 4 algorithms available: SP, GIGA, FW, RND\n",
    "##### Since the selection may cost some time, we do not provide a function that does every thing together\n",
    "##### Instead, dedicating the number of images to select and the algorithm to use, it will return a set of indeces\n",
    "##### Apply this set of indeces to the last cell to test this case"
   ]
  },
  {
   "cell_type": "code",
   "execution_count": null,
   "metadata": {},
   "outputs": [],
   "source": [
    "# SP\n",
    "M = 3 # number of points\n",
    "selected = []\n",
    "eng = matlab.engine.start_matlab()\n",
    "M_mat = matlab.double([M])\n",
    "\n",
    "for i, f in enumerate(features):\n",
    "    print(i)\n",
    "    f_mat = matlab.double([f.numpy()[i].tolist() for i in range(f.size(0))])\n",
    "    s = eng.SP(eng.transpose(f_mat), M_mat)\n",
    "    selected.append([int(ind) - 1 for ind in s[0]])\n",
    "\n",
    "eng.quit()\n",
    "\n",
    "h = torch.Tensor(0)\n",
    "for i, f in zip(selected, features):\n",
    "    h = torch.cat((h, f[i].unsqueeze(0)), 0)"
   ]
  },
  {
   "cell_type": "code",
   "execution_count": null,
   "metadata": {},
   "outputs": [],
   "source": [
    "# GIGA\n",
    "M = 3 # number of points\n",
    "select_alg = bc.GIGA\n",
    "selected = []\n",
    "\n",
    "for i, f in enumerate(features):\n",
    "    alg = select_alg(f.numpy())\n",
    "    alg.run(M)\n",
    "    wts = alg.weights()\n",
    "    new_M = M\n",
    "    while len(wts.nonzero()[0]) < M:\n",
    "        new_M +=  M - len(wts.nonzero()[0])\n",
    "        alg.run(new_M)\n",
    "        wts = alg.weights()\n",
    "    selected.append(wts.nonzero()[0].tolist())\n",
    "\n",
    "h = torch.Tensor(0)\n",
    "for i, f in zip(selected, features):\n",
    "    h = torch.cat((h, f[i].unsqueeze(0)), 0)"
   ]
  },
  {
   "cell_type": "code",
   "execution_count": null,
   "metadata": {},
   "outputs": [],
   "source": [
    "# FW\n",
    "M = 3 # number of points\n",
    "select_alg = bc.FrankWolfe\n",
    "selected = []\n",
    "\n",
    "for i, f in enumerate(features):\n",
    "    alg = select_alg(f.numpy())\n",
    "    alg.run(M)\n",
    "    wts = alg.weights()\n",
    "    new_M = M\n",
    "    while len(wts.nonzero()[0]) < M:\n",
    "        new_M +=  M - len(wts.nonzero()[0])\n",
    "        alg.run(new_M)\n",
    "        wts = alg.weights()\n",
    "    selected.append(wts.nonzero()[0].tolist())\n",
    "\n",
    "h = torch.Tensor(0)\n",
    "for i, f in zip(selected, features):\n",
    "    h = torch.cat((h, f[i].unsqueeze(0)), 0)"
   ]
  },
  {
   "cell_type": "code",
   "execution_count": null,
   "metadata": {},
   "outputs": [],
   "source": [
    "# RND\n",
    "M = 3 # number of points\n",
    "selected = []\n",
    "\n",
    "for i in range(len(features)):\n",
    "    selected.append(np.random.randint(20, size=M))\n",
    "\n",
    "h = torch.Tensor(0)\n",
    "for i, f in zip(selected, features):\n",
    "    h = torch.cat((h, f[i].unsqueeze(0)), 0)"
   ]
  },
  {
   "cell_type": "markdown",
   "metadata": {},
   "source": [
    "# Visualization example. The selected images are marked in red"
   ]
  },
  {
   "cell_type": "code",
   "execution_count": null,
   "metadata": {},
   "outputs": [],
   "source": [
    "plt.figure(figsize=(20, 2))\n",
    "for i, (x1, x2) in enumerate(dataset):\n",
    "    if i == 20:\n",
    "        break\n",
    "\n",
    "    # display top\n",
    "    ax = plt.subplot(2, 10, i + 1)\n",
    "    if i in selected[0]:\n",
    "        x1.paste(Image.new('RGBA', (20, 20), 'red'), (0, 0))\n",
    "    plt.imshow(x1)\n",
    "    ax.get_xaxis().set_visible(False)\n",
    "    ax.get_yaxis().set_visible(False)\n",
    "\n",
    "plt.tight_layout(pad=0, w_pad=-70)\n",
    "plt.show()"
   ]
  },
  {
   "cell_type": "markdown",
   "metadata": {},
   "source": [
    "# Test the accuracy"
   ]
  },
  {
   "cell_type": "code",
   "execution_count": null,
   "metadata": {},
   "outputs": [],
   "source": [
    "with torch.no_grad():\n",
    "    correct = 0\n",
    "    count = 0\n",
    "    for i, (x, y) in enumerate(dataset):\n",
    "        if i % 100 == 99:\n",
    "            print('processed numbers:', i + 1)\n",
    "            print('current accuracy:', correct / count)\n",
    "        if i % 20 not in selected[i // 20]:\n",
    "            count += 1\n",
    "            x = x.convert('L')\n",
    "            x = transform(x).unsqueeze(0).cuda()\n",
    "            x = torch.cat(h.size(1)*[x], 0)\n",
    "            all_out = []\n",
    "            for h2 in h:\n",
    "                h2 = h2.cuda()\n",
    "                out = F.sigmoid(compare_feature(x, h2)).mean()\n",
    "                all_out.append(out.item())\n",
    "            pred = np.argmax(all_out)\n",
    "            correct += pred == y\n",
    "acc = correct / count\n",
    "print('\\nfinal accuracy:', acc)"
   ]
  }
 ],
 "metadata": {
  "kernelspec": {
   "display_name": "Python 3",
   "language": "python",
   "name": "python3"
  },
  "language_info": {
   "codemirror_mode": {
    "name": "ipython",
    "version": 3
   },
   "file_extension": ".py",
   "mimetype": "text/x-python",
   "name": "python",
   "nbconvert_exporter": "python",
   "pygments_lexer": "ipython3",
   "version": "3.6.8"
  }
 },
 "nbformat": 4,
 "nbformat_minor": 4
}
